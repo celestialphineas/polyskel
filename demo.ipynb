{
 "cells": [
  {
   "cell_type": "code",
   "execution_count": 1,
   "metadata": {},
   "outputs": [],
   "source": [
    "import re, logging\n",
    "import polyskel\n",
    "\n",
    "def read_polyfile(polygon_file):\n",
    "  polygon_line_pat = re.compile(r\"\\s*(?P<coord_x>\\d+(\\.\\d+)?)\\s*,\\s*(?P<coord_y>\\d+(\\.\\d+)?)\\s*(#.*)?\")\n",
    "\n",
    "  contours = []\n",
    "  poly = []\n",
    "  for line in polygon_file:\n",
    "    line = line.strip()\n",
    "    if not line or line.startswith('#'):\n",
    "      continue\n",
    "\n",
    "    if line.startswith('-'):\n",
    "      contours.append(poly)\n",
    "      poly = []\n",
    "      continue\n",
    "\n",
    "    match = polygon_line_pat.match(line)\n",
    "    poly.append((float(match.group(\"coord_x\")), float(match.group(\"coord_y\"))))\n",
    "\n",
    "  if not polygon_file.isatty():\n",
    "    polygon_file.close()\n",
    "\n",
    "  contours.append(poly)\n",
    "  return contours"
   ]
  },
  {
   "cell_type": "code",
   "execution_count": 2,
   "metadata": {},
   "outputs": [
    {
     "name": "stdout",
     "output_type": "stream",
     "text": [
      "[[(208.0, 131.0), (213.0, 142.0), (168.0, 141.0), (260.0, 168.0), (246.0, 149.0), (277.0, 142.0), (271.0, 163.0), (302.0, 180.0), (268.0, 173.0), (305.0, 196.0), (319.0, 225.0), (367.0, 214.0), (423.0, 169.0), (471.0, 160.0), (540.0, 208.0), (588.0, 268.0), (616.0, 270.0), (644.0, 308.0), (630.0, 446.0), (647.0, 472.0), (641.0, 459.0), (656.0, 467.0), (660.0, 450.0), (646.0, 423.0), (687.0, 447.0), (666.0, 495.0), (651.0, 495.0), (711.0, 580.0), (728.0, 584.0), (714.0, 557.0), (746.0, 560.0), (735.0, 569.0), (744.0, 617.0), (769.0, 594.0), (753.0, 624.0), (771.0, 628.0), (793.0, 700.0), (842.0, 708.0), (871.0, 759.0), (902.0, 780.0), (891.0, 788.0), (871.0, 773.0), (887.0, 799.0), (947.0, 774.0), (964.0, 782.0), (978.0, 689.0), (985.0, 678.0), (990.0, 695.0), (984.0, 555.0), (868.0, 338.0), (854.0, 294.0), (869.0, 316.0), (887.0, 314.0), (892.0, 366.0), (895.0, 322.0), (805.0, 196.0), (747.0, 61.0), (759.0, 59.0), (753.0, 43.0), (691.0, 33.0), (683.0, 98.0), (661.0, 72.0), (355.0, 83.0), (333.0, 46.0), (35.0, 70.0), (70.0, 144.0), (50.0, 165.0), (77.0, 154.0), (87.0, 125.0), (99.0, 139.0), (106.0, 118.0), (122.0, 139.0), (89.0, 152.0), (169.0, 124.0)]]\n"
     ]
    }
   ],
   "source": [
    "polygons = read_polyfile(open('examples/florida'))\n",
    "print(polygons)"
   ]
  },
  {
   "cell_type": "code",
   "execution_count": 6,
   "metadata": {},
   "outputs": [
    {
     "data": {
      "text/plain": [
       "72"
      ]
     },
     "execution_count": 6,
     "metadata": {},
     "output_type": "execute_result"
    }
   ],
   "source": [
    "print(polyskel.skeletonize(polygons[0], []))"
   ]
  },
  {
   "cell_type": "code",
   "execution_count": 5,
   "metadata": {},
   "outputs": [
    {
     "data": {
      "text/plain": [
       "72"
      ]
     },
     "execution_count": 5,
     "metadata": {},
     "output_type": "execute_result"
    }
   ],
   "source": [
    "len(polyskel_new.skeletonize(polygons))"
   ]
  },
  {
   "cell_type": "code",
   "execution_count": null,
   "metadata": {},
   "outputs": [],
   "source": []
  }
 ],
 "metadata": {
  "kernelspec": {
   "display_name": "Python 3.10.4 ('img')",
   "language": "python",
   "name": "python3"
  },
  "language_info": {
   "codemirror_mode": {
    "name": "ipython",
    "version": 3
   },
   "file_extension": ".py",
   "mimetype": "text/x-python",
   "name": "python",
   "nbconvert_exporter": "python",
   "pygments_lexer": "ipython3",
   "version": "3.10.4"
  },
  "orig_nbformat": 4,
  "vscode": {
   "interpreter": {
    "hash": "16f44d2433b58ab32f946a7c58c0da2c386b2d84cb5a9f321f09a3c80a48eb42"
   }
  }
 },
 "nbformat": 4,
 "nbformat_minor": 2
}
